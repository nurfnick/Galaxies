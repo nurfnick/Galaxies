{
  "nbformat": 4,
  "nbformat_minor": 0,
  "metadata": {
    "colab": {
      "name": "Untitled6.ipynb",
      "provenance": [],
      "authorship_tag": "ABX9TyNsS+0SP23f7Db/Zf69rLpO",
      "include_colab_link": true
    },
    "kernelspec": {
      "name": "python3",
      "display_name": "Python 3"
    }
  },
  "cells": [
    {
      "cell_type": "markdown",
      "metadata": {
        "id": "view-in-github",
        "colab_type": "text"
      },
      "source": [
        "<a href=\"https://colab.research.google.com/github/nurfnick/Galaxies/blob/main/Data.ipynb\" target=\"_parent\"><img src=\"https://colab.research.google.com/assets/colab-badge.svg\" alt=\"Open In Colab\"/></a>"
      ]
    },
    {
      "cell_type": "code",
      "metadata": {
        "id": "fjAmGVKolcTN"
      },
      "source": [
        "import pandas as pa\n",
        "import numpy as np\n"
      ],
      "execution_count": 3,
      "outputs": []
    },
    {
      "cell_type": "code",
      "metadata": {
        "id": "Bl8vUzMdle-p"
      },
      "source": [
        "data = pa.read_csv('https://raw.githubusercontent.com/nurfnick/Galaxies/main/galaxies.csv')"
      ],
      "execution_count": 13,
      "outputs": []
    },
    {
      "cell_type": "code",
      "metadata": {
        "id": "RuyETv9El6Jp",
        "outputId": "a84a3a07-0d2c-4283-a696-eb9be29d1291",
        "colab": {
          "base_uri": "https://localhost:8080/",
          "height": 424
        }
      },
      "source": [
        "data"
      ],
      "execution_count": 14,
      "outputs": [
        {
          "output_type": "execute_result",
          "data": {
            "text/html": [
              "<div>\n",
              "<style scoped>\n",
              "    .dataframe tbody tr th:only-of-type {\n",
              "        vertical-align: middle;\n",
              "    }\n",
              "\n",
              "    .dataframe tbody tr th {\n",
              "        vertical-align: top;\n",
              "    }\n",
              "\n",
              "    .dataframe thead th {\n",
              "        text-align: right;\n",
              "    }\n",
              "</style>\n",
              "<table border=\"1\" class=\"dataframe\">\n",
              "  <thead>\n",
              "    <tr style=\"text-align: right;\">\n",
              "      <th></th>\n",
              "      <th>Name</th>\n",
              "      <th>RA (195</th>\n",
              "      <th>0) Dec m_zw</th>\n",
              "      <th>v_h</th>\n",
              "      <th>sig sour Ty</th>\n",
              "      <th>pe</th>\n",
              "      <th>D1</th>\n",
              "      <th>D1.1</th>\n",
              "      <th>BT</th>\n",
              "      <th>UGC</th>\n",
              "      <th>FLWO#</th>\n",
              "      <th>Notes</th>\n",
              "      <th>and Other Names</th>\n",
              "    </tr>\n",
              "  </thead>\n",
              "  <tbody>\n",
              "    <tr>\n",
              "      <th>0</th>\n",
              "      <td>NaN</td>\n",
              "      <td>NaN</td>\n",
              "      <td>NaN</td>\n",
              "      <td>NaN</td>\n",
              "      <td>NaN</td>\n",
              "      <td>NaN</td>\n",
              "      <td>NaN</td>\n",
              "      <td>NaN</td>\n",
              "      <td>NaN</td>\n",
              "      <td>NaN</td>\n",
              "      <td>NaN</td>\n",
              "      <td>NaN</td>\n",
              "      <td>NaN</td>\n",
              "    </tr>\n",
              "    <tr>\n",
              "      <th>1</th>\n",
              "      <td>00006+2142</td>\n",
              "      <td>36</td>\n",
              "      <td>21420014.4</td>\n",
              "      <td>6605</td>\n",
              "      <td>3212700 5</td>\n",
              "      <td>P</td>\n",
              "      <td>1</td>\n",
              "      <td>0.7</td>\n",
              "      <td>NaN</td>\n",
              "      <td>6</td>\n",
              "      <td>NaN</td>\n",
              "      <td>Sy2,M</td>\n",
              "      <td>K334,IVZw1</td>\n",
              "    </tr>\n",
              "    <tr>\n",
              "      <th>2</th>\n",
              "      <td>00006-0211</td>\n",
              "      <td>36</td>\n",
              "      <td>-2110014.3</td>\n",
              "      <td>7323</td>\n",
              "      <td>3112700 4X</td>\n",
              "      <td>NaN</td>\n",
              "      <td>1.3</td>\n",
              "      <td>0.8</td>\n",
              "      <td>NaN</td>\n",
              "      <td>5</td>\n",
              "      <td>T02072</td>\n",
              "      <td>NaN</td>\n",
              "      <td>NaN</td>\n",
              "    </tr>\n",
              "    <tr>\n",
              "      <th>3</th>\n",
              "      <td>N7814</td>\n",
              "      <td>41.1</td>\n",
              "      <td>15520312</td>\n",
              "      <td>1050</td>\n",
              "      <td>410611 2A</td>\n",
              "      <td>s</td>\n",
              "      <td>6.5</td>\n",
              "      <td>2.7</td>\n",
              "      <td>11.35</td>\n",
              "      <td>8</td>\n",
              "      <td>NaN</td>\n",
              "      <td>NaN</td>\n",
              "      <td>NaN</td>\n",
              "    </tr>\n",
              "    <tr>\n",
              "      <th>4</th>\n",
              "      <td>00010+2256</td>\n",
              "      <td>100</td>\n",
              "      <td>22560014</td>\n",
              "      <td>7301</td>\n",
              "      <td>3412700 5</td>\n",
              "      <td>NaN</td>\n",
              "      <td>1.9</td>\n",
              "      <td>1</td>\n",
              "      <td>NaN</td>\n",
              "      <td>14</td>\n",
              "      <td>T03645</td>\n",
              "      <td>NaN</td>\n",
              "      <td>NaN</td>\n",
              "    </tr>\n",
              "    <tr>\n",
              "      <th>...</th>\n",
              "      <td>...</td>\n",
              "      <td>...</td>\n",
              "      <td>...</td>\n",
              "      <td>...</td>\n",
              "      <td>...</td>\n",
              "      <td>...</td>\n",
              "      <td>...</td>\n",
              "      <td>...</td>\n",
              "      <td>...</td>\n",
              "      <td>...</td>\n",
              "      <td>...</td>\n",
              "      <td>...</td>\n",
              "      <td>...</td>\n",
              "    </tr>\n",
              "    <tr>\n",
              "      <th>2398</th>\n",
              "      <td>NaN</td>\n",
              "      <td>NaN</td>\n",
              "      <td>NaN</td>\n",
              "      <td>NaN</td>\n",
              "      <td>NaN</td>\n",
              "      <td>NaN</td>\n",
              "      <td>NaN</td>\n",
              "      <td>NaN</td>\n",
              "      <td>NaN</td>\n",
              "      <td>NaN</td>\n",
              "      <td>NaN</td>\n",
              "      <td>NaN</td>\n",
              "      <td>NaN</td>\n",
              "    </tr>\n",
              "    <tr>\n",
              "      <th>2399</th>\n",
              "      <td>CfA 1 Surve</td>\n",
              "      <td>y   Data</td>\n",
              "      <td>from Huchr</td>\n",
              "      <td>a, Dav</td>\n",
              "      <td>is Latham a</td>\n",
              "      <td>nd</td>\n",
              "      <td>Ton</td>\n",
              "      <td>ry 1</td>\n",
              "      <td>982, A</td>\n",
              "      <td>pJ Supp</td>\n",
              "      <td>updated</td>\n",
              "      <td>NaN</td>\n",
              "      <td>NaN</td>\n",
              "    </tr>\n",
              "    <tr>\n",
              "      <th>2400</th>\n",
              "      <td>with new</td>\n",
              "      <td>and impr</td>\n",
              "      <td>oved veloci</td>\n",
              "      <td>ties a</td>\n",
              "      <td>s of May 28</td>\n",
              "      <td>, 1</td>\n",
              "      <td>994</td>\n",
              "      <td>.</td>\n",
              "      <td>NaN</td>\n",
              "      <td>NaN</td>\n",
              "      <td>NaN</td>\n",
              "      <td>NaN</td>\n",
              "      <td>NaN</td>\n",
              "    </tr>\n",
              "    <tr>\n",
              "      <th>2401</th>\n",
              "      <td>NaN</td>\n",
              "      <td>NaN</td>\n",
              "      <td>NaN</td>\n",
              "      <td>NaN</td>\n",
              "      <td>NaN</td>\n",
              "      <td>NaN</td>\n",
              "      <td>NaN</td>\n",
              "      <td>NaN</td>\n",
              "      <td>NaN</td>\n",
              "      <td>NaN</td>\n",
              "      <td>NaN</td>\n",
              "      <td>NaN</td>\n",
              "      <td>NaN</td>\n",
              "    </tr>\n",
              "    <tr>\n",
              "      <th>2402</th>\n",
              "      <td>Copyright t</td>\n",
              "      <td>he Smith</td>\n",
              "      <td>sonian Inst</td>\n",
              "      <td>itutio</td>\n",
              "      <td>n 1999.</td>\n",
              "      <td>NaN</td>\n",
              "      <td>NaN</td>\n",
              "      <td>NaN</td>\n",
              "      <td>NaN</td>\n",
              "      <td>NaN</td>\n",
              "      <td>NaN</td>\n",
              "      <td>NaN</td>\n",
              "      <td>NaN</td>\n",
              "    </tr>\n",
              "  </tbody>\n",
              "</table>\n",
              "<p>2403 rows × 13 columns</p>\n",
              "</div>"
            ],
            "text/plain": [
              "             Name   RA (195  0) Dec m_zw  ...    FLWO#  Notes and Other Names\n",
              "0             NaN       NaN          NaN  ...      NaN    NaN             NaN\n",
              "1      00006+2142        36   21420014.4  ...      NaN  Sy2,M      K334,IVZw1\n",
              "2      00006-0211        36   -2110014.3  ...   T02072    NaN             NaN\n",
              "3           N7814      41.1     15520312  ...      NaN    NaN             NaN\n",
              "4      00010+2256       100     22560014  ...   T03645    NaN             NaN\n",
              "...           ...       ...          ...  ...      ...    ...             ...\n",
              "2398          NaN       NaN          NaN  ...      NaN    NaN             NaN\n",
              "2399  CfA 1 Surve  y   Data   from Huchr  ...  updated    NaN             NaN\n",
              "2400     with new  and impr  oved veloci  ...      NaN    NaN             NaN\n",
              "2401          NaN       NaN          NaN  ...      NaN    NaN             NaN\n",
              "2402  Copyright t  he Smith  sonian Inst  ...      NaN    NaN             NaN\n",
              "\n",
              "[2403 rows x 13 columns]"
            ]
          },
          "metadata": {
            "tags": []
          },
          "execution_count": 14
        }
      ]
    },
    {
      "cell_type": "code",
      "metadata": {
        "id": "tc2P2GABp9su",
        "outputId": "cc6c57a2-f9f1-4678-ec7f-5744e73185e4",
        "colab": {
          "base_uri": "https://localhost:8080/"
        }
      },
      "source": [
        "data['BT']"
      ],
      "execution_count": 17,
      "outputs": [
        {
          "output_type": "execute_result",
          "data": {
            "text/plain": [
              "0          NaN\n",
              "1          NaN\n",
              "2          NaN\n",
              "3        11.35\n",
              "4          NaN\n",
              "         ...  \n",
              "2398       NaN\n",
              "2399    982, A\n",
              "2400       NaN\n",
              "2401       NaN\n",
              "2402       NaN\n",
              "Name: BT, Length: 2403, dtype: object"
            ]
          },
          "metadata": {
            "tags": []
          },
          "execution_count": 17
        }
      ]
    },
    {
      "cell_type": "code",
      "metadata": {
        "id": "RIgGMvUdqTm8"
      },
      "source": [
        ""
      ],
      "execution_count": null,
      "outputs": []
    }
  ]
}